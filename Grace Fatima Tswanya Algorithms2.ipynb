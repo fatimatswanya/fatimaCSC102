{
 "cells": [
  {
   "cell_type": "code",
   "execution_count": 6,
   "metadata": {},
   "outputs": [
    {
     "name": "stdout",
     "output_type": "stream",
     "text": [
      "Type a number here6\n",
      "Number is even\n"
     ]
    }
   ],
   "source": [
    "x=int(input('Type a number here'))\n",
    "if (x % 2)==0:\n",
    "    print('Number is even')\n",
    "else:\n",
    "    print('Number is odd')\n"
   ]
  },
  {
   "cell_type": "code",
   "execution_count": 10,
   "metadata": {},
   "outputs": [
    {
     "name": "stdout",
     "output_type": "stream",
     "text": [
      "Enter your number here5\n",
      "Enter your number here6\n",
      "Number is odd\n"
     ]
    }
   ],
   "source": [
    "player_a=int(input('Enter your number here'))\n",
    "player_b=int(input('Enter your number here'))\n",
    "\n",
    "if (player_a + player_b % 2)==0:\n",
    "    print('Number is even')\n",
    "else:\n",
    "    print('Number is odd')\n"
   ]
  },
  {
   "cell_type": "code",
   "execution_count": 25,
   "metadata": {},
   "outputs": [],
   "source": [
    "RDSpend=[123,456,786,230,970,650,456,765,231,409]\n",
    "Administration=[730,980,765,324,208,687,901,762,895,392]\n",
    "MarketingSpend=[890,768,987,389,594,387,968,392,293,412]\n",
    "State=['California', 'New York', 'Florida', 'California', 'New York', 'Florida', 'California','New York', 'California', 'Florida' ]\n",
    "Profit=[768,980,652,433,564,357,282,130,750,695]\n",
    "\n",
    "import pandas\n",
    "\n",
    "tab={'RDSpend':RDSpend, 'Administration':Administration, 'MarketingSpend':MarketingSpend, 'State':State,'Profit':Profit}\n",
    "     \n",
    "\n",
    "data=pandas.DataFrame(tab)\n",
    "data\n",
    "data.to_excel('Businesses.xlsx')"
   ]
  },
  {
   "cell_type": "code",
   "execution_count": null,
   "metadata": {},
   "outputs": [],
   "source": []
  },
  {
   "cell_type": "code",
   "execution_count": 29,
   "metadata": {},
   "outputs": [
    {
     "name": "stdout",
     "output_type": "stream",
     "text": [
      "25.0 mph\n"
     ]
    }
   ],
   "source": [
    "distance=50\n",
    "time=2\n",
    "speed =distance/time\n",
    "print(speed,'mph')"
   ]
  },
  {
   "cell_type": "code",
   "execution_count": null,
   "metadata": {},
   "outputs": [],
   "source": []
  }
 ],
 "metadata": {
  "kernelspec": {
   "display_name": "Python 3",
   "language": "python",
   "name": "python3"
  },
  "language_info": {
   "codemirror_mode": {
    "name": "ipython",
    "version": 3
   },
   "file_extension": ".py",
   "mimetype": "text/x-python",
   "name": "python",
   "nbconvert_exporter": "python",
   "pygments_lexer": "ipython3",
   "version": "3.8.5"
  }
 },
 "nbformat": 4,
 "nbformat_minor": 4
}
